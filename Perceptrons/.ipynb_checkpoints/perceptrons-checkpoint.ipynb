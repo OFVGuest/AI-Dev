{
 "cells": [
  {
   "cell_type": "markdown",
   "id": "b6ba77b7-17f8-4fca-b96d-6c76c4ea1786",
   "metadata": {},
   "source": [
    "What is a model?\n",
    "A model is a mathematical or probabilistic relationship between variables."
   ]
  },
  {
   "cell_type": "code",
   "execution_count": 1,
   "id": "757faea4-a0b1-4fb5-b1de-5761058115f1",
   "metadata": {
    "tags": []
   },
   "outputs": [],
   "source": [
    "from linear_algebra import Vector, dot\n",
    "import math"
   ]
  },
  {
   "cell_type": "code",
   "execution_count": 2,
   "id": "cac76bc2-a6ad-4e99-9006-fa91d6fdab5c",
   "metadata": {
    "tags": []
   },
   "outputs": [],
   "source": [
    "def step_function(x: float) -> float:\n",
    "    return 1 if x >= 0 else 0"
   ]
  },
  {
   "cell_type": "code",
   "execution_count": 3,
   "id": "df7ef514-480b-4cc5-a6df-29c6ea4593f6",
   "metadata": {
    "tags": []
   },
   "outputs": [],
   "source": [
    "def perceptron_output(weights: Vector, bias: float, x: Vector) -> float:\n",
    "    calculation = dot(weights, x) + bias\n",
    "    return step_function(calculation)"
   ]
  },
  {
   "cell_type": "code",
   "execution_count": 4,
   "id": "8878eb76-42ad-4705-bc7a-0a508a134a47",
   "metadata": {
    "tags": []
   },
   "outputs": [],
   "source": [
    "and_weights = [2., 2]\n",
    "and_bias = -3.\n",
    "assert perceptron_output(and_weights, and_bias, [1, 1]) == 1\n",
    "assert perceptron_output(and_weights, and_bias, [0, 1]) == 0\n",
    "assert perceptron_output(and_weights, and_bias, [1, 0]) == 0\n",
    "assert perceptron_output(and_weights, and_bias, [0, 0]) == 0"
   ]
  },
  {
   "cell_type": "code",
   "execution_count": 5,
   "id": "319f4ac2-0dcf-434c-9155-c7d11e64feb3",
   "metadata": {
    "tags": []
   },
   "outputs": [],
   "source": [
    "or_weights = [2., 2]\n",
    "or_bias = -1.\n",
    "assert perceptron_output(or_weights, or_bias, [1, 1]) == 1\n",
    "assert perceptron_output(or_weights, or_bias, [0, 1]) == 1\n",
    "assert perceptron_output(or_weights, or_bias, [1, 0]) == 1\n",
    "assert perceptron_output(or_weights, or_bias, [0, 0]) == 0"
   ]
  },
  {
   "cell_type": "code",
   "execution_count": 6,
   "id": "0e79ea51-8bda-4ea5-b8d5-0615d6916f6d",
   "metadata": {
    "tags": []
   },
   "outputs": [],
   "source": [
    "not_weights = [-2.]\n",
    "not_bias = 1.\n",
    "assert perceptron_output(not_weights, not_bias, [0]) == 1\n",
    "assert perceptron_output(not_weights, not_bias, [1]) == 0"
   ]
  },
  {
   "cell_type": "code",
   "execution_count": 7,
   "id": "951b6b75-8023-4233-83fa-ec8bdd072d57",
   "metadata": {
    "tags": []
   },
   "outputs": [],
   "source": [
    "def sigmoid(t: float) -> float:\n",
    "    return 1 / (1 + math.exp(-t))"
   ]
  },
  {
   "cell_type": "code",
   "execution_count": 8,
   "id": "cc34827f-a945-4484-8051-ffe087b5d7ec",
   "metadata": {
    "tags": []
   },
   "outputs": [],
   "source": [
    "def neuron_output(weights: Vector, inputs: Vector) -> float:\n",
    "    # weights includes the bias term, inputs includes a 1\n",
    "    return sigmoid(dot(weights, inputs))"
   ]
  },
  {
   "cell_type": "code",
   "execution_count": 9,
   "id": "d2459bef-cca8-4bfd-8ab6-1d75bf080905",
   "metadata": {
    "tags": []
   },
   "outputs": [],
   "source": [
    "from typing import List\n",
    "def feed_forward(neural_network: List[List[Vector]], input_vector: Vector) -> List[Vector]:\n",
    "    \"\"\"\n",
    "    Feeds the input vector through the neural network.\n",
    "    Returns the outputs of all layers (not just the last one).\n",
    "    \"\"\"\n",
    "    outputs: List[Vector] = []\n",
    "    for layer in neural_network:\n",
    "        input_with_bias = input_vector + [1] # Add a constant.\n",
    "        output = [neuron_output(neuron, input_with_bias) # Compute the output\n",
    "            for neuron in layer] # for each neuron.\n",
    "        outputs.append(output) # Add to results.\n",
    "        # Then the input to the next layer is the output of this one\n",
    "        input_vector = output\n",
    "    return outputs"
   ]
  },
  {
   "cell_type": "code",
   "execution_count": 10,
   "id": "ec57415e-7afa-4df2-b87d-953107484141",
   "metadata": {
    "tags": []
   },
   "outputs": [],
   "source": [
    "xor_network = [# hidden layer\n",
    "   [[20., 20, -30], # 'and' neuron\n",
    "    [20., 20, -10]], # 'or' neuron\n",
    "    # output layer\n",
    "    [[-60., 60, -30]]]# output layer # '2nd input but not 1st input' neu"
   ]
  },
  {
   "cell_type": "code",
   "execution_count": 13,
   "id": "32b20ccc-ead8-4c35-8890-4eb208a09f7f",
   "metadata": {
    "tags": []
   },
   "outputs": [
    {
     "data": {
      "text/plain": [
       "[9.383146683006828e-14]"
      ]
     },
     "execution_count": 13,
     "metadata": {},
     "output_type": "execute_result"
    }
   ],
   "source": [
    "feed_forward(xor_network, [1,1])[1]"
   ]
  }
 ],
 "metadata": {
  "kernelspec": {
   "display_name": "Python 3 (ipykernel)",
   "language": "python",
   "name": "python3"
  },
  "language_info": {
   "codemirror_mode": {
    "name": "ipython",
    "version": 3
   },
   "file_extension": ".py",
   "mimetype": "text/x-python",
   "name": "python",
   "nbconvert_exporter": "python",
   "pygments_lexer": "ipython3",
   "version": "3.9.18"
  }
 },
 "nbformat": 4,
 "nbformat_minor": 5
}
