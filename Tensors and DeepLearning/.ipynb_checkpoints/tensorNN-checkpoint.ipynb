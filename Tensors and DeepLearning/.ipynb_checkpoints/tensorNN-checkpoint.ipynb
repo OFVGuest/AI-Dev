{
 "cells": [
  {
   "cell_type": "markdown",
   "id": "b27cb4ac-a897-47b9-a40b-ec0bb890c3eb",
   "metadata": {
    "jp-MarkdownHeadingCollapsed": true
   },
   "source": [
    "# Tensor"
   ]
  },
  {
   "cell_type": "markdown",
   "id": "efbd7cd8-3ebd-4152-b7f6-eafeb98a84ee",
   "metadata": {},
   "source": [
    "Lets create a simple Tensor-likes \"Tensors\". So we are just gonna think of tensors, but in the end, they are a bit different to this. However, it has the same bases.\\\n",
    "A vector are $x_i$ values in $R^1$, a matrix are $x_i$ values in $R^2$.\\\n",
    "And the new: The tensor is $R^i$ higher than $i > 2$."
   ]
  },
  {
   "cell_type": "code",
   "execution_count": 200,
   "id": "d75e449c-8d9e-4e0b-b319-7715f718bdf0",
   "metadata": {},
   "outputs": [],
   "source": [
    "from typing import List"
   ]
  },
  {
   "cell_type": "code",
   "execution_count": 201,
   "id": "d45660e0-a203-4310-90de-a77559e79f99",
   "metadata": {},
   "outputs": [],
   "source": [
    "Tensor = list"
   ]
  },
  {
   "cell_type": "code",
   "execution_count": 202,
   "id": "b41b5451-14f7-48cb-a854-7f3878216539",
   "metadata": {},
   "outputs": [],
   "source": [
    "def shape(tensor: Tensor) -> List[int]:\n",
    "    sizes: List[int] = []\n",
    "    while isinstance(tensor, list):\n",
    "        sizes.append(len(tensor))\n",
    "        tensor = tensor[0]\n",
    "    return sizes"
   ]
  },
  {
   "cell_type": "code",
   "execution_count": 203,
   "id": "e2061aea-c8a4-4260-9c16-bb2e8312593a",
   "metadata": {},
   "outputs": [
    {
     "data": {
      "text/plain": [
       "[3]"
      ]
     },
     "execution_count": 203,
     "metadata": {},
     "output_type": "execute_result"
    }
   ],
   "source": [
    "shape([1,2,3])"
   ]
  },
  {
   "cell_type": "markdown",
   "id": "b05c2d99-382f-45ee-9ae3-a5f6a6034366",
   "metadata": {},
   "source": [
    "If the tensor is $R^1$ then is a vector, however if the tensor has a list or vector or even a matrix in its index, then its a higher-order tensor.\\\n",
    "Lets create a function to know this."
   ]
  },
  {
   "cell_type": "code",
   "execution_count": 204,
   "id": "94078a9e-da78-4ec1-abd8-e5b2403fa005",
   "metadata": {},
   "outputs": [],
   "source": [
    "def is_1d(tensor: Tensor) -> bool:\n",
    "    return not isinstance(tensor[0], list)"
   ]
  },
  {
   "cell_type": "code",
   "execution_count": 205,
   "id": "cb0cfc42-9eac-4d5e-a9a1-e5399d9c15f7",
   "metadata": {},
   "outputs": [],
   "source": [
    "#Tensor summatory\n",
    "def tensor_sum(tensor: Tensor) -> float:\n",
    "    if is_1d(tensor):\n",
    "        return sum(tensor) # We can use ordinary Python sum\n",
    "    else:\n",
    "        return sum(tensor_sum(tensor_i) for tensor_i in tensor) # We use itirable sum"
   ]
  },
  {
   "cell_type": "code",
   "execution_count": 206,
   "id": "97faeec3-6dd4-4c52-92e4-df0cc0f9f1ee",
   "metadata": {},
   "outputs": [],
   "source": [
    "from typing import Callable\n",
    "def tensor_apply(f: Callable[[float], float], tensor: Tensor) -> Tensor:\n",
    "    if is_1d(tensor):\n",
    "        return [f(x) for x in tensor]\n",
    "    else:\n",
    "        return [tensor_apply(f, tensor_i) for tensor_i in tensor]"
   ]
  },
  {
   "cell_type": "code",
   "execution_count": 207,
   "id": "d8eb7afe-bae3-43f6-acb5-abf07ff71bfb",
   "metadata": {},
   "outputs": [],
   "source": [
    "def zeros_like(tensor: Tensor) -> Tensor:\n",
    "    return tensor_apply(lambda _: 0.0, tensor)"
   ]
  },
  {
   "cell_type": "code",
   "execution_count": 208,
   "id": "7211a123-15b2-4dbb-a0b2-18164ee47cd6",
   "metadata": {},
   "outputs": [],
   "source": [
    "def tensor_combine(f: Callable[[float, float], float], t1: Tensor, t2: Tensor) -> Tensor:\n",
    "    if is_1d(t1):\n",
    "        return [f(x, y) for x, y in zip(t1, t2)]\n",
    "    else:\n",
    "        return [tensor_combine(f, t1_i, t2_i) for t1_i, t2_i in zip(t1, t2)]"
   ]
  },
  {
   "cell_type": "markdown",
   "id": "6623ffa4-a0f3-47b9-a276-dc9fe025ec76",
   "metadata": {},
   "source": [
    "Ok, we just created the basic functions to start working and creating better NeuralNetworks. We added summatory, component sum, and a generalized method for functions.\\\n",
    "Now we can proceed to create the general and more optimized NN."
   ]
  },
  {
   "cell_type": "markdown",
   "id": "88e19acb-8c43-45b3-9d28-f2a3e5acc5ce",
   "metadata": {},
   "source": [
    "# NeuralNetwork"
   ]
  },
  {
   "cell_type": "markdown",
   "id": "15d4fc78-dd04-4fdd-bfd4-a975eb4b8165",
   "metadata": {},
   "source": [
    "It is time to create a class for Layers so we can manipulate and create a more general way to manage our NNs.\n",
    "I'll leave the functions not implemented so it is up to the situation to set it up.\\\n",
    "In case we don't define them before running it will raise an error.\n",
    "* Forward is to pass the input through the model.\n",
    "* Backward is for the gradient descend.\n",
    "* Params returns the parameters\n",
    "* Grads returns each of the gradients"
   ]
  },
  {
   "cell_type": "code",
   "execution_count": 209,
   "id": "84fcc44e-c9be-4638-9b88-e8636d3332f8",
   "metadata": {},
   "outputs": [],
   "source": [
    "from typing import Iterable, Tuple\n",
    "class Layer:\n",
    "    def forward(self, input):\n",
    "        raise NotImplementedError\n",
    "\n",
    "    def backward(self, gradient):\n",
    "        raise NotImplementedError\n",
    "\n",
    "    def params(self) -> Iterable[Tensor]:\n",
    "        return ()\n",
    "\n",
    "    def grads(self) -> Iterable[Tensor]:\n",
    "        return ()"
   ]
  },
  {
   "cell_type": "code",
   "execution_count": 210,
   "id": "afcbf44e-f677-4279-9057-7edf6655a56a",
   "metadata": {},
   "outputs": [],
   "source": [
    "import math\n",
    "def sigmoid(t: float) -> float:\n",
    "    return 1 / (1 + math.exp(-t))"
   ]
  },
  {
   "cell_type": "markdown",
   "id": "57b175af-c387-4ea7-ae42-e2a6e17204d8",
   "metadata": {},
   "source": [
    "Create a simple activation layer with a gradient call function"
   ]
  },
  {
   "cell_type": "code",
   "execution_count": 211,
   "id": "e1c43e5d-9134-47dc-8b02-0e628087e64d",
   "metadata": {},
   "outputs": [],
   "source": [
    "class Sigmoid(Layer):\n",
    "    def forward(self, input: Tensor) -> Tensor:\n",
    "        self.sigmoids = tensor_apply(sigmoid, input)\n",
    "        return self.sigmoids\n",
    "\n",
    "    def backward(self, gradient: Tensor) -> Tensor:\n",
    "        return tensor_combine(lambda sig, grad: sig * (1 - sig) * grad, self.sigmoids, gradient)"
   ]
  },
  {
   "cell_type": "markdown",
   "id": "9bec01e7-af89-4ae2-a2aa-49e7435e5fd8",
   "metadata": {},
   "source": [
    "Here we will create basic ways to start the weights and biases for the NN"
   ]
  },
  {
   "cell_type": "code",
   "execution_count": 212,
   "id": "1d032075-52e0-48e2-991b-f1bbe993e923",
   "metadata": {},
   "outputs": [],
   "source": [
    "import random\n",
    "from probability import inverse_normal_cdf\n",
    "\n",
    "def random_uniform(*dims: int) -> Tensor:\n",
    "    if len(dims) == 1:\n",
    "        return [random.random() for _ in range(dims[0])]\n",
    "    else:\n",
    "        return [random_uniform(*dims[1:]) for _ in range(dims[0])]\n",
    "\n",
    "def random_normal(*dims: int, mean: float = 0.0, variance: float = 1.0) -> Tensor:\n",
    "    if len(dims) == 1:\n",
    "        return [mean + variance * inverse_normal_cdf(random.random()) for _ in range(dims[0])]\n",
    "    else:\n",
    "        return [random_normal(*dims[1:], mean=mean, variance=variance) for _ in range(dims[0])]"
   ]
  },
  {
   "cell_type": "code",
   "execution_count": 213,
   "id": "92e81993-ae92-4b40-8ec1-76652dcdeb3f",
   "metadata": {},
   "outputs": [],
   "source": [
    "def random_tensor(*dims: int, init: str = 'normal') -> Tensor:\n",
    "    if init == 'normal':\n",
    "        return random_normal(*dims)\n",
    "    elif init == 'uniform':\n",
    "        return random_uniform(*dims)\n",
    "    elif init == 'xavier':\n",
    "        variance = len(dims) / sum(dims)\n",
    "        return random_normal(*dims, variance=variance)\n",
    "    else:\n",
    "        raise ValueError(f\"unknown init: {init}\")"
   ]
  },
  {
   "cell_type": "markdown",
   "id": "7c6951ad-bd0c-4d6e-8484-67af297833d6",
   "metadata": {},
   "source": [
    "Class linear is how we are overwriting the perceptron so we can have a neural network model. In this case it will be a Linear one, that's why the name"
   ]
  },
  {
   "cell_type": "code",
   "execution_count": 214,
   "id": "74a419a6-2482-45ae-87b3-ee6fb1d440b7",
   "metadata": {},
   "outputs": [],
   "source": [
    "from linear_algebra import dot\n",
    "\n",
    "class Linear(Layer):\n",
    "    def __init__(self, input_dim: int, output_dim: int, init: str = 'xavier') -> None:\n",
    "        # This is to know the dimensions from the input and work with them without errors.\n",
    "        self.input_dim = input_dim\n",
    "        self.output_dim = output_dim\n",
    "\n",
    "        # Iterator for weights and biases\n",
    "        self.w = random_tensor(output_dim, input_dim, init=init)\n",
    "        self.b = random_tensor(output_dim, init=init)\n",
    "\n",
    "    def forward(self, input: Tensor) -> Tensor:\n",
    "        self.input = input\n",
    "        return [dot(input, self.w[o]) + self.b[o] for o in range(self.output_dim)]\n",
    "\n",
    "    def backward(self, gradient: Tensor) -> Tensor:\n",
    "        self.b_grad = gradient\n",
    "        self.w_grad = [[self.input[i] * gradient[o] for i in range(self.input_dim)] for o in range(self.output_dim)]\n",
    "        return [sum(self.w[o][i] * gradient[o] for o in range(self.output_dim)) for i in range(self.input_dim)]\n",
    "\n",
    "    def params(self) -> Iterable[Tensor]:\n",
    "        return [self.w, self.b]\n",
    "\n",
    "    def grads(self) -> Iterable[Tensor]:\n",
    "        return [self.w_grad, self.b_grad]\n"
   ]
  },
  {
   "cell_type": "markdown",
   "id": "3a39d25e-8066-420d-a73a-551e6f88506e",
   "metadata": {},
   "source": [
    "Sequential class allow us to create a Layer consisting of other layers.\\\n",
    "It is important to remember the arrays or matrixs as functions, not only datasets."
   ]
  },
  {
   "cell_type": "code",
   "execution_count": 215,
   "id": "292f0744-1d9d-45d8-8ba2-ea1d884f2021",
   "metadata": {},
   "outputs": [],
   "source": [
    "from typing import List\n",
    "\n",
    "class Sequential(Layer):\n",
    "    def __init__(self, layers: List[Layer]) -> None:\n",
    "        self.layers = layers\n",
    "\n",
    "    def forward(self, input):\n",
    "        for layer in self.layers:\n",
    "            input = layer.forward(input)\n",
    "        return input\n",
    "\n",
    "    def backward(self, gradient):\n",
    "        for layer in reversed(self.layers):\n",
    "            gradient = layer.backward(gradient)\n",
    "        return gradient\n",
    "\n",
    "    def params(self) -> Iterable[Tensor]:\n",
    "        return (param for layer in self.layers for param in layer.params())\n",
    "\n",
    "    def grads(self) -> Iterable[Tensor]:\n",
    "        return (grad for layer in self.layers for grad in layer.grads())"
   ]
  },
  {
   "cell_type": "markdown",
   "id": "2b2d5dc7-8bab-4e43-a895-8ec3c057a45b",
   "metadata": {},
   "source": [
    "We will create a Loss class so then we can overwrite it with, basicaly, the MSE function"
   ]
  },
  {
   "cell_type": "code",
   "execution_count": 216,
   "id": "4fa04995-db36-44ec-b2ef-5101ac666b88",
   "metadata": {},
   "outputs": [],
   "source": [
    "class Loss:\n",
    "    def loss(self, predicted: Tensor, actual: Tensor) -> float:\n",
    "        raise NotImplementedError\n",
    "\n",
    "    def gradient(self, predicted: Tensor, actual: Tensor) -> Tensor:\n",
    "        raise NotImplementedError"
   ]
  },
  {
   "cell_type": "code",
   "execution_count": 217,
   "id": "c110e19a-1ec2-4771-a0aa-2a9f0f3ed086",
   "metadata": {},
   "outputs": [],
   "source": [
    "class SSE(Loss):\n",
    "    #Lets overwrite the loss function\n",
    "    def loss(self, predicted: Tensor, actual: Tensor) -> float:\n",
    "        squared_errors = tensor_combine(lambda predicted, actual: (predicted - actual) ** 2, predicted, actual)\n",
    "        return tensor_sum(squared_errors)\n",
    "\n",
    "    def gradient(self, predicted: Tensor, actual: Tensor) -> Tensor:\n",
    "        return tensor_combine(lambda predicted, actual: 2 * (predicted - actual), predicted, actual)"
   ]
  },
  {
   "cell_type": "markdown",
   "id": "df196be7-8b3f-4971-b407-9a446e3efee1",
   "metadata": {},
   "source": [
    "Optimizer Class is the to write the way we are going to adjust the model, in this case the classic GradientDescent"
   ]
  },
  {
   "cell_type": "code",
   "execution_count": 218,
   "id": "93cd05e3-057c-43b3-bd57-f681103e54f0",
   "metadata": {},
   "outputs": [],
   "source": [
    "class Optimizer:\n",
    "    def step(self, layer: Layer) -> None:\n",
    "        raise NotImplementedError"
   ]
  },
  {
   "cell_type": "code",
   "execution_count": 219,
   "id": "1d1443ab-c463-4f85-af7b-690a92235fbb",
   "metadata": {},
   "outputs": [],
   "source": [
    "class GradientDescent(Optimizer):\n",
    "    def __init__(self, learning_rate: float = 0.1) -> None:\n",
    "        self.lr = learning_rate\n",
    "\n",
    "    def step(self, layer: Layer) -> None:\n",
    "        for param, grad in zip(layer.params(), layer.grads()):\n",
    "            #We must remember in python to write inside a List we must use an iterator\n",
    "            param[:] = tensor_combine( lambda param, grad: param - grad * self.lr, param, grad)"
   ]
  },
  {
   "cell_type": "code",
   "execution_count": 220,
   "id": "e8c328b2-aecf-4771-b3a5-525e22acf70c",
   "metadata": {},
   "outputs": [],
   "source": [
    "class Momentum(Optimizer):\n",
    "    def __init__(self, learning_rate: float, momentum: float = 0.9) -> None:\n",
    "        self.lr = learning_rate\n",
    "        self.mo = momentum\n",
    "        self.updates: List[Tensor] = []\n",
    "\n",
    "    def step(self, layer: Layer) -> None:\n",
    "        if not self.updates:\n",
    "            self.updates = [zeros_like(grad) for grad in layer.grads()]\n",
    "\n",
    "        for update, param, grad in zip(self.updates, layer.params(), layer.grads()):\n",
    "            update[:] = tensor_combine(lambda u, g: self.mo * u + (1 - self.mo) * g, update, grad)\n",
    "            param[:] = tensor_combine(lambda p, u: p - self.lr * u, param, update)"
   ]
  },
  {
   "cell_type": "markdown",
   "id": "0db735c8-8342-4b3f-8cf8-11c6c9860f85",
   "metadata": {},
   "source": [
    "## Test XOR"
   ]
  },
  {
   "cell_type": "code",
   "execution_count": 221,
   "id": "fe0b584d-0774-4d61-91c1-8a3e4eb0b2ec",
   "metadata": {},
   "outputs": [],
   "source": [
    "xs = [[0., 0], [0., 1], [1., 0], [1., 1]]\n",
    "ys = [[0.], [1.], [1.], [0.]]"
   ]
  },
  {
   "cell_type": "code",
   "execution_count": 222,
   "id": "7c3c5df6-d3c0-4c94-bdef-6b7e1ddfe307",
   "metadata": {},
   "outputs": [],
   "source": [
    "random.seed(0)\n",
    "net = Sequential([\n",
    "    Linear(input_dim=2, output_dim=2),\n",
    "    Sigmoid(),\n",
    "    Linear(input_dim=2, output_dim=1)\n",
    "])"
   ]
  },
  {
   "cell_type": "code",
   "execution_count": 223,
   "id": "407037d9-ed2d-4b44-b282-1d225abfc849",
   "metadata": {
    "scrolled": true
   },
   "outputs": [
    {
     "name": "stderr",
     "output_type": "stream",
     "text": [
      "xor loss 0.000:  98%|██████████████████████████████████████████████████████████▊ | 2941/3000 [00:02<00:00, 1153.81it/s]IOPub message rate exceeded.\n",
      "The Jupyter server will temporarily stop sending output\n",
      "to the client in order to avoid crashing it.\n",
      "To change this limit, set the config variable\n",
      "`--ServerApp.iopub_msg_rate_limit`.\n",
      "\n",
      "Current values:\n",
      "ServerApp.iopub_msg_rate_limit=1000.0 (msgs/sec)\n",
      "ServerApp.rate_limit_window=3.0 (secs)\n",
      "\n"
     ]
    }
   ],
   "source": [
    "import tqdm\n",
    "optimizer = GradientDescent(learning_rate=0.1)\n",
    "loss = SSE()\n",
    "with tqdm.trange(3000) as t:\n",
    "    for epoch in t:\n",
    "        epoch_loss = 0.0\n",
    "        for x, y in zip(xs, ys):\n",
    "            predicted = net.forward(x)\n",
    "            epoch_loss += loss.loss(predicted, y)\n",
    "            gradient = loss.gradient(predicted, y)\n",
    "            net.backward(gradient)\n",
    "            optimizer.step(net)\n",
    "        t.set_description(f\"xor loss {epoch_loss:.3f}\")"
   ]
  },
  {
   "cell_type": "code",
   "execution_count": 224,
   "id": "b7b49f3a-4863-4eea-bbce-02215eb2665d",
   "metadata": {
    "scrolled": true
   },
   "outputs": [
    {
     "name": "stdout",
     "output_type": "stream",
     "text": [
      "[2.220446049250313e-16] [0.9999999999999993] [0.9999999999999996] [7.771561172376096e-16]\n"
     ]
    }
   ],
   "source": [
    "print(net.forward([0,0]), net.forward([0,1]), net.forward([1,0]), net.forward([1,1]))"
   ]
  },
  {
   "cell_type": "markdown",
   "id": "6a6e113c-0f4f-48a0-a8b5-9b29c3efa1d9",
   "metadata": {},
   "source": [
    "## Other activation functions"
   ]
  },
  {
   "cell_type": "code",
   "execution_count": 225,
   "id": "5337bb96-f8f6-4baa-97fc-84f798c6b16f",
   "metadata": {},
   "outputs": [],
   "source": [
    "import math\n",
    "\n",
    "def tanh(x: float) -> float:\n",
    "    if x < -100:  return -1\n",
    "    elif x > 100: return 1\n",
    "\n",
    "    em2x = math.exp(-2 * x)\n",
    "    return (1 - em2x) / (1 + em2x)\n",
    "\n",
    "class Tanh(Layer):\n",
    "    def forward(self, input: Tensor) -> Tensor:\n",
    "        self.tanh = tensor_apply(tanh, input)\n",
    "        return self.tanh\n",
    "\n",
    "    def backward(self, gradient: Tensor) -> Tensor:\n",
    "        return tensor_combine(\n",
    "            lambda tanh, grad: (1 - tanh ** 2) * grad, self.tanh, gradient)"
   ]
  },
  {
   "cell_type": "code",
   "execution_count": 226,
   "id": "a05ec18d-5ccc-47ae-951f-1a7ff4de2c3b",
   "metadata": {},
   "outputs": [
    {
     "data": {
      "image/png": "[encoded data removed]",
      "text/plain": [
       "<Figure size 640x480 with 1 Axes>"
      ]
     },
     "metadata": {},
     "output_type": "display_data"
    }
   ],
   "source": [
    "import matplotlib.pyplot as plt\n",
    "x = [i/100 for i in range(-1000,1000)]\n",
    "y = [tanh(x) for x in x]\n",
    "plt.plot(x, y);"
   ]
  },
  {
   "cell_type": "code",
   "execution_count": 227,
   "id": "a284b1bd-95e4-4f27-978c-aad917b50cbc",
   "metadata": {},
   "outputs": [],
   "source": [
    "class Relu(Layer):\n",
    "    def forward(self, input: Tensor) -> Tensor:\n",
    "        self.input = input\n",
    "        return tensor_apply(lambda x: max(x, 0), input)\n",
    "\n",
    "    def backward(self, gradient: Tensor) -> Tensor:\n",
    "        return tensor_combine(lambda x, grad: grad if x > 0 else 0, self.input, gradient)"
   ]
  },
  {
   "cell_type": "code",
   "execution_count": 228,
   "id": "fe9a99a7-1f7c-4c86-afca-de65602f4262",
   "metadata": {},
   "outputs": [
    {
     "data": {
      "image/png": "[encoded data removed]",
      "text/plain": [
       "<Figure size 640x480 with 1 Axes>"
      ]
     },
     "metadata": {},
     "output_type": "display_data"
    }
   ],
   "source": [
    "x = [i for i in range(-10,10)]\n",
    "y = [max(x, 0) for x in x]\n",
    "plt.plot(x, y);"
   ]
  },
  {
   "cell_type": "markdown",
   "id": "b10d9793-656e-4638-8577-5b1178b77063",
   "metadata": {},
   "source": [
    "SoftMax function converts the outputs to probabilities, so instead of finding between negative and large values the model can concentrate in smaller values"
   ]
  },
  {
   "cell_type": "code",
   "execution_count": 229,
   "id": "2b28cfbc-b9a7-4a3a-adc5-ac3226770bf9",
   "metadata": {},
   "outputs": [],
   "source": [
    "def softmax(tensor: Tensor) -> Tensor:\n",
    "    \"\"\"Softmax along the last dimension\"\"\"\n",
    "    if is_1d(tensor):\n",
    "    # Subtract largest value for numerical stability.\n",
    "        largest = max(tensor)\n",
    "        exps = [math.exp(x - largest) for x in tensor]\n",
    "        sum_of_exps = sum(exps) # This is the total \"weight.\"\n",
    "        return [exp_i / sum_of_exps # Probability is the fraction\n",
    "            for exp_i in exps] # of the total weight.\n",
    "    else:\n",
    "        return [softmax(tensor_i) for tensor_i in tensor]"
   ]
  },
  {
   "cell_type": "code",
   "execution_count": 230,
   "id": "4cdeef88-1420-4c80-86c5-fcf0b5dc74ba",
   "metadata": {},
   "outputs": [],
   "source": [
    "class SoftmaxCrossEntropy(Loss):\n",
    "    def loss(self, predicted: Tensor, actual: Tensor) -> float:\n",
    "        probabilities = softmax(predicted)\n",
    "        likelihoods = tensor_combine(lambda p, act: math.log(p + 1e-30) * act,\n",
    "        probabilities,\n",
    "        actual)\n",
    "        return -tensor_sum(likelihoods)\n",
    "    def gradient(self, predicted: Tensor, actual: Tensor) -> Tensor:\n",
    "        probabilities = softmax(predicted)\n",
    "        return tensor_combine(lambda p, actual: p - actual,\n",
    "        probabilities,\n",
    "        actual)"
   ]
  },
  {
   "cell_type": "markdown",
   "id": "445550fb-311e-40c4-ac01-8cee3f1f530c",
   "metadata": {},
   "source": [
    "## More complex test"
   ]
  },
  {
   "cell_type": "code",
   "execution_count": 231,
   "id": "3a15a7b6-9cdb-4f04-bfd0-0d70526dc3e7",
   "metadata": {},
   "outputs": [],
   "source": [
    "from neural_networks import binary_encode, fizz_buzz_encode, argmax\n",
    "xs = [binary_encode(n) for n in range(101, 1024)]\n",
    "ys = [fizz_buzz_encode(n) for n in range(101, 1024)]"
   ]
  },
  {
   "cell_type": "code",
   "execution_count": 232,
   "id": "f4b06752-ce4a-4a82-8ca1-f0d4678b2fda",
   "metadata": {},
   "outputs": [],
   "source": [
    "NUM_HIDDEN = 25\n",
    "random.seed(0)\n",
    "net = Sequential([\n",
    "    Linear(input_dim=10, output_dim=NUM_HIDDEN, init='uniform'),\n",
    "    Tanh(),\n",
    "    Linear(input_dim=NUM_HIDDEN, output_dim=4, init='uniform'),\n",
    "    Sigmoid()\n",
    "])"
   ]
  },
  {
   "cell_type": "code",
   "execution_count": 233,
   "id": "5607da7a-77d8-49bb-87d4-8af34733d036",
   "metadata": {
    "scrolled": true
   },
   "outputs": [
    {
     "name": "stderr",
     "output_type": "stream",
     "text": [
      "fb loss: 64.54 acc: 0.95: 100%|████████████████████████████████████████████████████| 1000/1000 [08:31<00:00,  1.96it/s]"
     ]
    },
    {
     "name": "stdout",
     "output_type": "stream",
     "text": [
      "test results 0.9\n"
     ]
    },
    {
     "name": "stderr",
     "output_type": "stream",
     "text": [
      "\n"
     ]
    }
   ],
   "source": [
    "def fizzbuzz_accuracy(low: int, hi: int, net: Layer) -> float:\n",
    "    num_correct = 0\n",
    "    for n in range(low, hi):\n",
    "        x = binary_encode(n)\n",
    "        predicted = argmax(net.forward(x))\n",
    "        actual = argmax(fizz_buzz_encode(n))\n",
    "        if predicted == actual:\n",
    "            num_correct += 1\n",
    "    return num_correct / (hi - low)\n",
    "    \n",
    "optimizer = Momentum(learning_rate=0.1, momentum=0.9)\n",
    "loss = SSE()\n",
    "    \n",
    "with tqdm.trange(1000) as t:\n",
    "    for epoch in t:\n",
    "        epoch_loss = 0.0\n",
    "        for x, y in zip(xs, ys):\n",
    "            predicted = net.forward(x)\n",
    "            epoch_loss += loss.loss(predicted, y)\n",
    "            gradient = loss.gradient(predicted, y)\n",
    "            net.backward(gradient)\n",
    "            optimizer.step(net)\n",
    "        accuracy = fizzbuzz_accuracy(101, 1024, net)\n",
    "        t.set_description(f\"fb loss: {epoch_loss:.2f} acc: {accuracy:.2f}\")\n",
    "print(\"test results\", fizzbuzz_accuracy(1, 101, net))"
   ]
  },
  {
   "cell_type": "code",
   "execution_count": 234,
   "id": "c12d1fca-5fb7-4690-9797-d9c959850ee6",
   "metadata": {},
   "outputs": [],
   "source": [
    "def fizbuzz_test(n):\n",
    "    x = binary_encode(n)\n",
    "    predicted = argmax(net.forward(x))\n",
    "    actual = argmax(fizz_buzz_encode(n))\n",
    "    return (actual, predicted)"
   ]
  },
  {
   "cell_type": "code",
   "execution_count": 235,
   "id": "8f318bd9-710b-4045-85f0-b893a8d45a02",
   "metadata": {},
   "outputs": [
    {
     "name": "stdout",
     "output_type": "stream",
     "text": [
      "(3, 1)\n"
     ]
    }
   ],
   "source": [
    "print(fizbuzz_test(0))"
   ]
  },
  {
   "cell_type": "code",
   "execution_count": 236,
   "id": "c259fe4c-2adc-4a64-9ebf-8c1294d535bb",
   "metadata": {},
   "outputs": [
    {
     "name": "stderr",
     "output_type": "stream",
     "text": [
      "fb loss: 0.802 acc: 1.00: 100%|██████████████████████████████████████████████████████| 300/300 [02:44<00:00,  1.82it/s]"
     ]
    },
    {
     "name": "stdout",
     "output_type": "stream",
     "text": [
      "test results 0.96\n"
     ]
    },
    {
     "name": "stderr",
     "output_type": "stream",
     "text": [
      "\n"
     ]
    }
   ],
   "source": [
    "random.seed(0)\n",
    "net = Sequential([\n",
    "    Linear(input_dim=10, output_dim=NUM_HIDDEN, init='uniform'),\n",
    "    Tanh(),\n",
    "    Linear(input_dim=NUM_HIDDEN, output_dim=4, init='uniform')\n",
    "])\n",
    "optimizer = Momentum(learning_rate=0.1, momentum=0.9)\n",
    "loss = SoftmaxCrossEntropy()\n",
    "with tqdm.trange(300) as t:\n",
    "    for epoch in t:\n",
    "        epoch_loss = 0.0\n",
    "        for x, y in zip(xs, ys):\n",
    "            predicted = net.forward(x)\n",
    "            epoch_loss += loss.loss(predicted, y)\n",
    "            gradient = loss.gradient(predicted, y)\n",
    "            net.backward(gradient)\n",
    "            optimizer.step(net)\n",
    "        accuracy = fizzbuzz_accuracy(101, 1024, net)\n",
    "        t.set_description(f\"fb loss: {epoch_loss:.3f} acc: {accuracy:.2f}\")\n",
    "print(\"test results\", fizzbuzz_accuracy(1, 101, net))"
   ]
  },
  {
   "cell_type": "code",
   "execution_count": 237,
   "id": "b504485b-4d57-4b8b-a612-07bb8f56880c",
   "metadata": {},
   "outputs": [
    {
     "name": "stdout",
     "output_type": "stream",
     "text": [
      "(3, 3)\n"
     ]
    }
   ],
   "source": [
    "print(fizbuzz_test(105))"
   ]
  },
  {
   "cell_type": "code",
   "execution_count": 239,
   "id": "727a2733-ccd3-4e4d-83ab-326aa25c0f38",
   "metadata": {},
   "outputs": [],
   "source": [
    "class Dropout(Layer):\n",
    "    def __init__(self, p: float) -> None:\n",
    "        self.p = p\n",
    "        self.train = True\n",
    "    def forward(self, input: Tensor) -> Tensor:\n",
    "        if self.train:\n",
    "            # Create a mask of 0s and 1s shaped like the input\n",
    "            # using the specified probability.\n",
    "            self.mask = tensor_apply( lambda _: 0 if random.random() < self.p else 1, input)\n",
    "            # Multiply by the mask to dropout inputs.\n",
    "            return tensor_combine(operator.mul, input, self.mask)\n",
    "        else:\n",
    "            # During evaluation just scale down the outputs uniformly.\n",
    "            return tensor_apply(lambda x: x * (1 - self.p), input)\n",
    "    def backward(self, gradient: Tensor) -> Tensor:\n",
    "        if self.train:\n",
    "            # Only propagate the gradients where mask == 1.\n",
    "            return tensor_combine(operator.mul, gradient, self.mask)\n",
    "        else:\n",
    "            raise RuntimeError(\"don't call backward when not in train mode\")"
   ]
  }
 ],
 "metadata": {
  "kernelspec": {
   "display_name": "Python 3 (ipykernel)",
   "language": "python",
   "name": "python3"
  },
  "language_info": {
   "codemirror_mode": {
    "name": "ipython",
    "version": 3
   },
   "file_extension": ".py",
   "mimetype": "text/x-python",
   "name": "python",
   "nbconvert_exporter": "python",
   "pygments_lexer": "ipython3",
   "version": "3.9.18"
  }
 },
 "nbformat": 4,
 "nbformat_minor": 5
}
