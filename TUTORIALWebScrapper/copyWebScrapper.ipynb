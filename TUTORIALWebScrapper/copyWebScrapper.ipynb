{
 "cells": [
  {
   "cell_type": "code",
   "execution_count": 1,
   "id": "c41cc82b-0de5-44fb-87d9-1e38244b260b",
   "metadata": {
    "tags": []
   },
   "outputs": [],
   "source": [
    "import sys, re\n",
    "\n",
    "regex = sys.argv[1]\n",
    "\n",
    "\n",
    "for line in sys.stdin:\n",
    "    if re.search(regex, line):\n",
    "        sys.stdout.write(line)"
   ]
  },
  {
   "cell_type": "code",
   "execution_count": 2,
   "id": "d9d88bd3-625c-45ea-91e0-2136d87057c7",
   "metadata": {
    "tags": []
   },
   "outputs": [
    {
     "name": "stdout",
     "output_type": "stream",
     "text": [
      "0\n"
     ]
    }
   ],
   "source": [
    "import sys\n",
    "count = 0\n",
    "\n",
    "for line in sys.stdin:\n",
    "    count += 1\n",
    "\n",
    "print(count)"
   ]
  },
  {
   "cell_type": "code",
   "execution_count": 8,
   "id": "ef76cb43-f99b-4dca-9a24-f8fc7aef1e8a",
   "metadata": {
    "tags": []
   },
   "outputs": [
    {
     "data": {
      "text/plain": [
       "Counter({'gmail.com': 2, 'mit.edu.com': 1})"
      ]
     },
     "execution_count": 8,
     "metadata": {},
     "output_type": "execute_result"
    }
   ],
   "source": [
    "def get_domain(email_address: str) -> str:\n",
    "    \"\"\"Split on '@' and return the last piece\"\"\"\n",
    "    return email_address.lower().split(\"@\")[-1]\n",
    "# a couple of tests\n",
    "assert get_domain('joelgrus@gmail.com') == 'gmail.com'\n",
    "assert get_domain('joel@m.datasciencester.com') == 'm.datasciencester.com'\n",
    "\n",
    "from collections import Counter\n",
    "\n",
    "with open('email_addresses.txt', 'r') as f:\n",
    "    domain_counts = Counter(get_domain(line.strip()) for line in f if \"@\" in line)\n",
    "\n",
    "domain_counts"
   ]
  },
  {
   "cell_type": "code",
   "execution_count": 1,
   "id": "5d7dadff-aed9-4355-9b28-9b923446f5eb",
   "metadata": {
    "tags": []
   },
   "outputs": [],
   "source": [
    "import requests\n",
    "from bs4 import BeautifulSoup\n",
    "\n",
    "# URL of the web page you want to scrape\n",
    "url = \"https://raw.githubusercontent.com/joelgrus/data/master/getting-data.html\"\n",
    "html = requests.get(url).text\n",
    "\n",
    "# Use html5lib as the parser\n",
    "soup = BeautifulSoup(html, 'html5lib')"
   ]
  },
  {
   "cell_type": "code",
   "execution_count": 4,
   "id": "b2c1c082-afbf-4628-a400-a9e727ff7785",
   "metadata": {
    "tags": []
   },
   "outputs": [],
   "source": [
    "first_paragraph = soup.find('p')\n",
    "first_paragraph_text = soup.p.text\n",
    "first_paragraph_words = soup.p.text.split()\n",
    "first_paragraph_id = soup.p['id'] # raises KeyError if no 'id'\n",
    "first_paragraph_id2 = soup.p.get('id')"
   ]
  },
  {
   "cell_type": "code",
   "execution_count": 5,
   "id": "c2ceec8c-ae93-4586-a01c-674311c9a5a1",
   "metadata": {
    "tags": []
   },
   "outputs": [],
   "source": [
    "all_paragraphs = soup.find_all('p') # or just soup('p')\n",
    "paragraphs_with_ids = [p for p in soup('p') if p.get('id')]"
   ]
  },
  {
   "cell_type": "code",
   "execution_count": 7,
   "id": "8cbc7e97-efc1-4a47-a376-2ff14daa50a6",
   "metadata": {
    "tags": []
   },
   "outputs": [],
   "source": [
    "important_paragraphs = soup('p', {'class' : 'important'})\n",
    "important_paragraphs2 = soup('p', 'important')\n",
    "important_paragraphs3 = [p for p in soup('p') if 'important' in p.get('class', [])]"
   ]
  },
  {
   "cell_type": "code",
   "execution_count": 8,
   "id": "5bae7628-37a2-4ea1-9a4d-cf4285bf1846",
   "metadata": {
    "tags": []
   },
   "outputs": [
    {
     "name": "stdout",
     "output_type": "stream",
     "text": [
      "967\n"
     ]
    }
   ],
   "source": [
    "from bs4 import BeautifulSoup\n",
    "import requests\n",
    "url = \"https://www.house.gov/representatives\"\n",
    "text = requests.get(url).text\n",
    "soup = BeautifulSoup(text, \"html5lib\")\n",
    "all_urls = [a['href'] for a in soup('a') if a.has_attr('href')]\n",
    "print(len(all_urls)) "
   ]
  },
  {
   "cell_type": "code",
   "execution_count": 11,
   "id": "c9701e12-21ef-4e56-bc18-634a21130d0b",
   "metadata": {
    "tags": []
   },
   "outputs": [
    {
     "name": "stdout",
     "output_type": "stream",
     "text": [
      "876\n"
     ]
    }
   ],
   "source": [
    "import re\n",
    "# Must start with http:// or https://\n",
    "# Must end with .house.gov or .house.gov/\n",
    "regex = r\"^https?://.*\\.house\\.gov/?$\"\n",
    "# Let's write some tests!\n",
    "\n",
    "# And now apply\n",
    "good_urls = [url for url in all_urls if re.match(regex, url)]\n",
    "print(len(good_urls))"
   ]
  },
  {
   "cell_type": "code",
   "execution_count": 12,
   "id": "4b118b79-dfd9-4487-ab71-cd22874c57c3",
   "metadata": {
    "tags": []
   },
   "outputs": [
    {
     "name": "stdout",
     "output_type": "stream",
     "text": [
      "438\n"
     ]
    }
   ],
   "source": [
    "good_urls = list(set(good_urls))\n",
    "print(len(good_urls))"
   ]
  }
 ],
 "metadata": {
  "kernelspec": {
   "display_name": "Python 3 (ipykernel)",
   "language": "python",
   "name": "python3"
  },
  "language_info": {
   "codemirror_mode": {
    "name": "ipython",
    "version": 3
   },
   "file_extension": ".py",
   "mimetype": "text/x-python",
   "name": "python",
   "nbconvert_exporter": "python",
   "pygments_lexer": "ipython3",
   "version": "3.9.18"
  }
 },
 "nbformat": 4,
 "nbformat_minor": 5
}
